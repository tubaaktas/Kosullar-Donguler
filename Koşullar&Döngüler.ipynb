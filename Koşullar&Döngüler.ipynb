{
  "nbformat": 4,
  "nbformat_minor": 0,
  "metadata": {
    "colab": {
      "name": "Koşullar&Döngüler.ipynb",
      "provenance": [],
      "collapsed_sections": [],
      "authorship_tag": "ABX9TyNa/zL/UHIMvDpe3NfGf3MY",
      "include_colab_link": true
    },
    "kernelspec": {
      "name": "python3",
      "display_name": "Python 3"
    },
    "language_info": {
      "name": "python"
    }
  },
  "cells": [
    {
      "cell_type": "markdown",
      "metadata": {
        "id": "view-in-github",
        "colab_type": "text"
      },
      "source": [
        "<a href=\"https://colab.research.google.com/github/tubaaktas/Kosullar-Donguler/blob/main/Ko%C5%9Fullar%26D%C3%B6ng%C3%BCler.ipynb\" target=\"_parent\"><img src=\"https://colab.research.google.com/assets/colab-badge.svg\" alt=\"Open In Colab\"/></a>"
      ]
    },
    {
      "cell_type": "markdown",
      "source": [
        "# **Conditions**"
      ],
      "metadata": {
        "id": "FScymMN73uRd"
      }
    },
    {
      "cell_type": "markdown",
      "source": [
        "# **if,else,elif**\n"
      ],
      "metadata": {
        "id": "qz9BSSuB7RAP"
      }
    },
    {
      "cell_type": "code",
      "execution_count": null,
      "metadata": {
        "colab": {
          "base_uri": "https://localhost:8080/"
        },
        "id": "wS5cVx8bwy1d",
        "outputId": "bdf03593-8057-4829-9224-47439ab52d98"
      },
      "outputs": [
        {
          "output_type": "stream",
          "name": "stdout",
          "text": [
            "True\n"
          ]
        }
      ],
      "source": [
        "if 1 == 1:\n",
        "  print(\"True\")\n",
        "\n",
        "if 1 == 2: #buradaki islemin sonucu true olsaydi ekranda False görebilecektik\n",
        "  print(\"False\")"
      ]
    },
    {
      "cell_type": "code",
      "source": [
        "num = 11\n",
        "if num == 10: #false\n",
        "  print(\"number is 10\")\n",
        "elif  num == 11: #true\n",
        "  print(\"number is 11\")"
      ],
      "metadata": {
        "colab": {
          "base_uri": "https://localhost:8080/"
        },
        "id": "zqao0lBr3uGv",
        "outputId": "2baa4036-f1ad-4a2b-d3a5-991d4c85ce7c"
      },
      "execution_count": null,
      "outputs": [
        {
          "output_type": "stream",
          "name": "stdout",
          "text": [
            "number is 11\n"
          ]
        }
      ]
    },
    {
      "cell_type": "code",
      "source": [
        "def num_check(number):\n",
        "  if number == 10: #True ise\n",
        "    print(\"Number is 10\")\n",
        "  else: # True degilse\n",
        "    print(\"Number is not 10\")\n",
        "\n",
        "\n",
        "num_check(10)"
      ],
      "metadata": {
        "colab": {
          "base_uri": "https://localhost:8080/"
        },
        "id": "Wd1Y1mVa4e3Y",
        "outputId": "8ae6811d-18e4-40fa-8cfc-11a977a57211"
      },
      "execution_count": null,
      "outputs": [
        {
          "output_type": "stream",
          "name": "stdout",
          "text": [
            "Number is 10\n"
          ]
        }
      ]
    },
    {
      "cell_type": "code",
      "source": [
        "def num_check2(num):\n",
        "  if num > 10:\n",
        "    print(\"greater than 10\")\n",
        "  elif num <10:\n",
        "    print(\"less than 10\")\n",
        "  else:\n",
        "    print(\"equal to 10\")\n",
        "\n",
        "num_check2(11)\n",
        "num_check2(5)\n",
        "num_check2(10)"
      ],
      "metadata": {
        "colab": {
          "base_uri": "https://localhost:8080/"
        },
        "id": "IlM56l4C40Ec",
        "outputId": "783cb29f-aaef-4a91-8278-28aeb965559b"
      },
      "execution_count": null,
      "outputs": [
        {
          "output_type": "stream",
          "name": "stdout",
          "text": [
            "greater than 10\n",
            "less than 10\n",
            "equal to 10\n"
          ]
        }
      ]
    },
    {
      "cell_type": "markdown",
      "source": [
        "# **for** **loop** "
      ],
      "metadata": {
        "id": "GdUvWqqZ7aeJ"
      }
    },
    {
      "cell_type": "code",
      "source": [
        "students=[\"Ali\", \"John\", \"Adem\",\"Luis\", \"Tolgay\" ,\"Kaan\",\"Mert\"]"
      ],
      "metadata": {
        "id": "ROVkqjxf7juW"
      },
      "execution_count": null,
      "outputs": []
    },
    {
      "cell_type": "code",
      "source": [
        "for student in students:\n",
        "  print(student.upper())"
      ],
      "metadata": {
        "colab": {
          "base_uri": "https://localhost:8080/"
        },
        "id": "uoB_PCAP722I",
        "outputId": "8df44a13-d5a5-4e15-d3c7-6aa5ce5c2831"
      },
      "execution_count": null,
      "outputs": [
        {
          "output_type": "stream",
          "name": "stdout",
          "text": [
            "ALI\n",
            "JOHN\n",
            "ADEM\n",
            "LUIS\n",
            "TOLGAY\n",
            "KAAN\n",
            "MERT\n"
          ]
        }
      ]
    },
    {
      "cell_type": "code",
      "source": [
        "salaries = [1000,1230, 2344,9830]\n",
        "\n",
        "for salary in salaries:\n",
        "  print(salary)\n",
        "\n",
        "for salary in salaries:\n",
        "  print(int(salary*20/100+salary))"
      ],
      "metadata": {
        "colab": {
          "base_uri": "https://localhost:8080/"
        },
        "id": "HECSBME58Dtn",
        "outputId": "9a5ff9ae-e644-46ae-d198-7497856d011a"
      },
      "execution_count": null,
      "outputs": [
        {
          "output_type": "stream",
          "name": "stdout",
          "text": [
            "1000\n",
            "1230\n",
            "2344\n",
            "9830\n",
            "1200\n",
            "1476\n",
            "2812\n",
            "11796\n"
          ]
        }
      ]
    },
    {
      "cell_type": "code",
      "source": [
        "#DONT REPEAT YOURSELF!\n",
        "\n",
        "def new_salary(salary, rate):\n",
        " return salary * rate/100 + salary\n",
        "\n",
        "for salary in salaries:\n",
        "  print(new_salary(salary, 18))\n"
      ],
      "metadata": {
        "colab": {
          "base_uri": "https://localhost:8080/"
        },
        "id": "foKCCx_O8ftt",
        "outputId": "6065c00b-0ea1-4cc9-868b-a84712a79a8b"
      },
      "execution_count": null,
      "outputs": [
        {
          "output_type": "stream",
          "name": "stdout",
          "text": [
            "1180.0\n",
            "1451.4\n",
            "2765.92\n",
            "11599.4\n"
          ]
        }
      ]
    },
    {
      "cell_type": "code",
      "source": [
        "for salary in salaries:\n",
        "  if salary >= 3000:\n",
        "    print(new_salary(salary, 10))\n",
        "  else:\n",
        "    print(new_salary(salary, 20))"
      ],
      "metadata": {
        "colab": {
          "base_uri": "https://localhost:8080/"
        },
        "id": "tjGfVGEQ9KHS",
        "outputId": "b12422c8-a8b2-420c-e566-ba40d39dd997"
      },
      "execution_count": null,
      "outputs": [
        {
          "output_type": "stream",
          "name": "stdout",
          "text": [
            "1200.0\n",
            "1476.0\n",
            "2812.8\n",
            "10813.0\n"
          ]
        }
      ]
    },
    {
      "cell_type": "markdown",
      "source": [
        "**UYGULAMA**"
      ],
      "metadata": {
        "id": "HkfLIc7vB4AV"
      }
    },
    {
      "cell_type": "code",
      "source": [
        "def upp_two_index(string):\n",
        "  new_str = \"\"\n",
        "  for i in range(len(string)):\n",
        "    if i % 2 == 0:\n",
        "      new_str += string[i].upper()\n",
        "    else:\n",
        "      new_str += string[i].lower()\n",
        "  print(new_str)"
      ],
      "metadata": {
        "id": "dSyv6dxbB85s"
      },
      "execution_count": null,
      "outputs": []
    },
    {
      "cell_type": "code",
      "source": [
        "upp_two_index(\"bEnim AdIM TugbA\")"
      ],
      "metadata": {
        "colab": {
          "base_uri": "https://localhost:8080/"
        },
        "id": "0emJqWzGDVzD",
        "outputId": "904f627d-d662-412a-c90c-d85974a8717e"
      },
      "execution_count": null,
      "outputs": [
        {
          "output_type": "stream",
          "name": "stdout",
          "text": [
            "BeNiM AdIm tUgBa\n"
          ]
        }
      ]
    },
    {
      "cell_type": "markdown",
      "source": [
        "# **Break & While & Continue**"
      ],
      "metadata": {
        "id": "UZrQdC_sJxQp"
      }
    },
    {
      "cell_type": "code",
      "source": [
        "#break\n",
        "salaries = [1000, 2000, 3000, 4000, 5000]\n",
        "\n",
        "for salary in salaries:\n",
        "  if salary == 3000:\n",
        "    break\n",
        "  print(salary)"
      ],
      "metadata": {
        "colab": {
          "base_uri": "https://localhost:8080/"
        },
        "id": "D0Us1Q1tJ6Sq",
        "outputId": "52da879f-728f-4858-e403-4f1f7db35a35"
      },
      "execution_count": null,
      "outputs": [
        {
          "output_type": "stream",
          "name": "stdout",
          "text": [
            "1000\n",
            "2000\n"
          ]
        }
      ]
    },
    {
      "cell_type": "code",
      "source": [
        "#continue\n",
        "for salary in salaries:\n",
        "  if salary == 3000:\n",
        "    continue\n",
        "  print(salary)"
      ],
      "metadata": {
        "colab": {
          "base_uri": "https://localhost:8080/"
        },
        "id": "o7SHWifeO7xh",
        "outputId": "2b32da78-74f7-4c0e-d135-3ddb4eda0444"
      },
      "execution_count": null,
      "outputs": [
        {
          "output_type": "stream",
          "name": "stdout",
          "text": [
            "1000\n",
            "2000\n",
            "4000\n",
            "5000\n"
          ]
        }
      ]
    },
    {
      "cell_type": "code",
      "source": [
        "#while\n",
        "number = 1\n",
        "while number < 5: #number 5ten kucuk oldugu surece\n",
        "  print(number)\n",
        "  number +=1"
      ],
      "metadata": {
        "colab": {
          "base_uri": "https://localhost:8080/"
        },
        "id": "6f-2q14iPGoS",
        "outputId": "f6f70bec-bbc9-4d17-c54d-3ecd3816914e"
      },
      "execution_count": null,
      "outputs": [
        {
          "output_type": "stream",
          "name": "stdout",
          "text": [
            "1\n",
            "2\n",
            "3\n",
            "4\n"
          ]
        }
      ]
    },
    {
      "cell_type": "markdown",
      "source": [
        "# **Enumerate : Otomatik Counter/Indexer ile for loop**"
      ],
      "metadata": {
        "id": "bJSbGjDVPmwR"
      }
    },
    {
      "cell_type": "code",
      "source": [
        "students = [\"Ali\", \"Mehmet\", \"Simay\", \"Rüya\"]\n",
        "\n",
        "for student in students:\n",
        "  print(student)\n",
        "\n",
        "for index, student in enumerate(students):\n",
        "  print(index, student, sep=\"->\")"
      ],
      "metadata": {
        "colab": {
          "base_uri": "https://localhost:8080/"
        },
        "id": "FPne_KnTPtCk",
        "outputId": "19559fac-ea6d-4aab-cc33-50713e03328c"
      },
      "execution_count": null,
      "outputs": [
        {
          "output_type": "stream",
          "name": "stdout",
          "text": [
            "Ali\n",
            "Mehmet\n",
            "Simay\n",
            "Rüya\n",
            "0->Ali\n",
            "1->Mehmet\n",
            "2->Simay\n",
            "3->Rüya\n"
          ]
        }
      ]
    },
    {
      "cell_type": "code",
      "source": [
        "cift = []\n",
        "tek = []\n",
        "\n",
        "for index, student in enumerate(students):\n",
        "  if index % 2 == 0:\n",
        "    cift.append(student)\n",
        "  else:\n",
        "    tek.append(student)\n",
        "\n",
        "print(cift, tek, sep=\"\\n\")"
      ],
      "metadata": {
        "colab": {
          "base_uri": "https://localhost:8080/"
        },
        "id": "DodRH7e7QD1X",
        "outputId": "5e9f31e8-a27e-4f32-8d6f-6eb741560738"
      },
      "execution_count": null,
      "outputs": [
        {
          "output_type": "stream",
          "name": "stdout",
          "text": [
            "['A', 'V', 'W', 'G']\n",
            "['S', 'E', 'T']\n"
          ]
        }
      ]
    },
    {
      "cell_type": "markdown",
      "source": [
        "#Cift indextekileri bir listeye tekleri bir listeye ve bu listeleri tek bir listede tutma :"
      ],
      "metadata": {
        "id": "BORgUfyuT-10"
      }
    },
    {
      "cell_type": "code",
      "source": [
        "#mycode\n",
        "def divide_students(list):\n",
        "  cift = []\n",
        "  tek = []\n",
        "  total = [tek, cift]\n",
        "  for index, student in enumerate(list):\n",
        "    if index % 2 == 0:\n",
        "      cift.append(student)\n",
        "    else:\n",
        "      tek.append(student)\n",
        "  return total\n",
        "\n"
      ],
      "metadata": {
        "id": "fsjvoWsCRFna"
      },
      "execution_count": null,
      "outputs": []
    },
    {
      "cell_type": "code",
      "source": [
        "students = [\"A\", \"S\", \"V\", \"E\", \"W\", \"T\", \"G\"]\n",
        "divide_students(students)"
      ],
      "metadata": {
        "colab": {
          "base_uri": "https://localhost:8080/"
        },
        "id": "SBRcV-Q-Rvrc",
        "outputId": "bcac60a0-2128-4527-970f-86c1543a8bbf"
      },
      "execution_count": null,
      "outputs": [
        {
          "output_type": "execute_result",
          "data": {
            "text/plain": [
              "[['S', 'E', 'T'], ['A', 'V', 'W', 'G']]"
            ]
          },
          "metadata": {},
          "execution_count": 112
        }
      ]
    },
    {
      "cell_type": "code",
      "source": [
        "#Vahit Keskin's Code\n",
        "\n",
        "def divide_students_original(students):\n",
        "  groups = [[], []]\n",
        "  for index, student in enumerate(students):\n",
        "    if index % 2 == 0:\n",
        "      groups[0].append(student)\n",
        "    else:\n",
        "      groups[1].append(student)\n",
        "  return groups"
      ],
      "metadata": {
        "id": "If-5uJ1NR8ch"
      },
      "execution_count": null,
      "outputs": []
    },
    {
      "cell_type": "code",
      "source": [
        "divide_students_original(students)"
      ],
      "metadata": {
        "colab": {
          "base_uri": "https://localhost:8080/"
        },
        "id": "DBz77RUqTl6z",
        "outputId": "b0256682-94c2-4471-da8d-e0de60612721"
      },
      "execution_count": null,
      "outputs": [
        {
          "output_type": "execute_result",
          "data": {
            "text/plain": [
              "[['A', 'V', 'W', 'G'], ['S', 'E', 'T']]"
            ]
          },
          "metadata": {},
          "execution_count": 114
        }
      ]
    },
    {
      "cell_type": "markdown",
      "source": [
        "# Alternating Fonksiyonunun Enumerate ile Yazılması"
      ],
      "metadata": {
        "id": "a5Qo6-qqUT5k"
      }
    },
    {
      "cell_type": "code",
      "source": [
        "#Enumerate: enumerate(iterable, start=0) , Iterable: any object that supports iteration, Start: the index value from which the counter is to be started, by default it is 0\n",
        "# Yinelenebilir: Yinelemeyi destekleyen herhangi bir nesne, Başlangıç: sayacın başlatılacağı dizin değeri, varsayılan olarak 0'dır.\n",
        "def alternatig_with_enumerate(string):\n",
        "  new_str = \"\"\n",
        "  for i, letter in enumerate(string):\n",
        "    if i % 2 == 0:\n",
        "      new_str += letter.upper()\n",
        "    else:\n",
        "      new_str += letter.lower()\n",
        "  return new_str"
      ],
      "metadata": {
        "id": "sQboVqc4UbeG"
      },
      "execution_count": null,
      "outputs": []
    },
    {
      "cell_type": "code",
      "source": [
        "alternatig_with_enumerate(\"hi lovely python user\")"
      ],
      "metadata": {
        "colab": {
          "base_uri": "https://localhost:8080/",
          "height": 35
        },
        "id": "1P7dQrSrVbTW",
        "outputId": "34ddcaf9-20ce-4e1e-e48a-b67250366e43"
      },
      "execution_count": null,
      "outputs": [
        {
          "output_type": "execute_result",
          "data": {
            "text/plain": [
              "'Hi lOvElY PyThOn uSeR'"
            ],
            "application/vnd.google.colaboratory.intrinsic+json": {
              "type": "string"
            }
          },
          "metadata": {},
          "execution_count": 119
        }
      ]
    },
    {
      "cell_type": "markdown",
      "source": [
        "#ZİP\n"
      ],
      "metadata": {
        "id": "w2HHKTSGXeiW"
      }
    },
    {
      "cell_type": "code",
      "source": [
        "#Ayrı listeleri tek bir liste icerisine her birisinde bulunan elemanları aynı sırada zipleyerek bir araya getirip, her birisini tek bir eleman şeklinde görebileceğimiz formda birleştirdi.\n",
        "list1 = [\"a\",\"b\",\"c\",\"d\"]\n",
        "list2 = [1,2,3,4]\n",
        "list3 = [\"Lale\",\"Zambak\",\"Menekşe\",\"Lavanta\"]\n",
        "\n",
        "list(zip(list1,list2,list3))"
      ],
      "metadata": {
        "colab": {
          "base_uri": "https://localhost:8080/"
        },
        "id": "eEAnS24BXlEF",
        "outputId": "393a4113-1ae5-4849-9dfe-25f67120c9bd"
      },
      "execution_count": null,
      "outputs": [
        {
          "output_type": "execute_result",
          "data": {
            "text/plain": [
              "[('a', 1, 'Lale'),\n",
              " ('b', 2, 'Zambak'),\n",
              " ('c', 3, 'Menekşe'),\n",
              " ('d', 4, 'Lavanta')]"
            ]
          },
          "metadata": {},
          "execution_count": 122
        }
      ]
    },
    {
      "cell_type": "markdown",
      "source": [
        "## Lambda & Map & Filter & Reduce "
      ],
      "metadata": {
        "id": "aTUzf4QIZ56t"
      }
    },
    {
      "cell_type": "code",
      "source": [
        "def sum(x,y):\n",
        "  return x + y\n",
        "\n",
        "sum(1,9) * 2"
      ],
      "metadata": {
        "colab": {
          "base_uri": "https://localhost:8080/"
        },
        "id": "axcHcJ-HaCcI",
        "outputId": "31067908-1458-48e9-dd4b-148154d2c0b3"
      },
      "execution_count": null,
      "outputs": [
        {
          "output_type": "execute_result",
          "data": {
            "text/plain": [
              "20"
            ]
          },
          "metadata": {},
          "execution_count": 123
        }
      ]
    },
    {
      "cell_type": "code",
      "source": [
        "#lamdaların def den farkı kullan at fonksiyonlardır.\n",
        "new_sum = lambda x, y : x + y # bu sekilde yer tutmadan bir noktada kullanıp atilirlar.\n",
        "\n",
        "new_sum(1,9)*2"
      ],
      "metadata": {
        "colab": {
          "base_uri": "https://localhost:8080/"
        },
        "id": "bceAtmlBaRxG",
        "outputId": "35193838-d3cf-4aaf-ab6f-17a6d09baa66"
      },
      "execution_count": null,
      "outputs": [
        {
          "output_type": "execute_result",
          "data": {
            "text/plain": [
              "20"
            ]
          },
          "metadata": {},
          "execution_count": 125
        }
      ]
    },
    {
      "cell_type": "code",
      "source": [
        "#map : Bir fonksiyon ve bu fonksiyonu uygulayabilecegi bir nesne vererek for dongusu yazmadan maplemis oluruz.\n",
        "salaries = [1000, 2000, 3000, 4000, 5000]\n",
        "\n",
        "def new_salary(x):\n",
        "  return x * 20 /100 + x\n",
        "\n",
        "new_salary(5000)\n",
        "\n",
        "for salary in salaries:\n",
        "  print(new_salary(salary))\n",
        "\n",
        "#######################################\n",
        "#del new_salary\n",
        "#list(map(new_salary, salaries))\n",
        "list(map(lambda x : x * 20 / 100 + x, salaries))\n"
      ],
      "metadata": {
        "colab": {
          "base_uri": "https://localhost:8080/"
        },
        "id": "Y7xniR3CablO",
        "outputId": "696f372c-8079-418a-f72e-87f9671b6771"
      },
      "execution_count": null,
      "outputs": [
        {
          "output_type": "stream",
          "name": "stdout",
          "text": [
            "1200.0\n",
            "2400.0\n",
            "3600.0\n",
            "4800.0\n",
            "6000.0\n"
          ]
        },
        {
          "output_type": "execute_result",
          "data": {
            "text/plain": [
              "[1200.0, 2400.0, 3600.0, 4800.0, 6000.0]"
            ]
          },
          "metadata": {},
          "execution_count": 132
        }
      ]
    },
    {
      "cell_type": "code",
      "source": [
        "list(map(lambda x: x**2, salaries))"
      ],
      "metadata": {
        "colab": {
          "base_uri": "https://localhost:8080/"
        },
        "id": "9l_W29VmcYko",
        "outputId": "8a8e6144-0ab4-4aed-b262-593f8edd8c3b"
      },
      "execution_count": null,
      "outputs": [
        {
          "output_type": "execute_result",
          "data": {
            "text/plain": [
              "[1000000, 4000000, 9000000, 16000000, 25000000]"
            ]
          },
          "metadata": {},
          "execution_count": 133
        }
      ]
    },
    {
      "cell_type": "code",
      "source": [
        "#FILTER\n",
        "list_store = [1,2,3,4,5,6,7,8,9,10]\n",
        "list(filter(lambda x: x % 2 == 0, list_store))#2ye bolumunden 0 kalanlari listele"
      ],
      "metadata": {
        "colab": {
          "base_uri": "https://localhost:8080/"
        },
        "id": "p4vSHZpNd488",
        "outputId": "efe2fa77-d91d-44be-d648-46d5aaa054d9"
      },
      "execution_count": null,
      "outputs": [
        {
          "output_type": "execute_result",
          "data": {
            "text/plain": [
              "[2, 4, 6, 8, 10]"
            ]
          },
          "metadata": {},
          "execution_count": 135
        }
      ]
    },
    {
      "cell_type": "code",
      "source": [
        "#REDUCE : Azaltma anlamındaki bu fonksiyon bağımsız değişkeninde iletilen belirli bir işlevi, iletilen dizide belirtilen tüm liste öğelerine uygulamak için kullanılır.\n",
        "from functools import reduce\n",
        "list_store = [1,2,3,4,5] #Once 1 ile 2 yi topladi sonra 3 ü ekledi sonra 4 ü ta ki listede eleman kalmayana kadar bu islemi gerceklestirdi.\n",
        "reduce(lambda a, b: a + b, list_store)\n"
      ],
      "metadata": {
        "colab": {
          "base_uri": "https://localhost:8080/"
        },
        "id": "rZExmTw0eL1l",
        "outputId": "3fff0be0-db34-4a96-f02e-c7055550aa28"
      },
      "execution_count": null,
      "outputs": [
        {
          "output_type": "execute_result",
          "data": {
            "text/plain": [
              "15"
            ]
          },
          "metadata": {},
          "execution_count": 137
        }
      ]
    },
    {
      "cell_type": "code",
      "source": [
        ""
      ],
      "metadata": {
        "id": "2RW5bN3liDG1"
      },
      "execution_count": null,
      "outputs": []
    }
  ]
}